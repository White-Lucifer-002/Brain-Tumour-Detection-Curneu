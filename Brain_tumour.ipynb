{
  "nbformat": 4,
  "nbformat_minor": 0,
  "metadata": {
    "colab": {
      "name": "Brain_tumour.ipynb",
      "provenance": []
    },
    "kernelspec": {
      "name": "python3",
      "display_name": "Python 3"
    },
    "language_info": {
      "name": "python"
    }
  },
  "cells": [
    {
      "cell_type": "code",
      "execution_count": 1,
      "metadata": {
        "colab": {
          "base_uri": "https://localhost:8080/"
        },
        "id": "Z9ciPddM6FrP",
        "outputId": "8463572c-29af-47d3-a195-f552de6b80b7"
      },
      "outputs": [
        {
          "output_type": "stream",
          "name": "stdout",
          "text": [
            "Drive already mounted at /content/drive; to attempt to forcibly remount, call drive.mount(\"/content/drive\", force_remount=True).\n"
          ]
        }
      ],
      "source": [
        "from google.colab import drive\n",
        "\n",
        "drive.mount('/content/drive')"
      ]
    },
    {
      "cell_type": "markdown",
      "source": [
        "1. Data preprocessing steps and importing required libraries"
      ],
      "metadata": {
        "id": "HIpT4yHdcgKW"
      }
    },
    {
      "cell_type": "code",
      "source": [
        "import pandas as pd\n",
        "import matplotlib.pyplot as plt\n",
        "import matplotlib.image as img\n",
        "import seaborn as sb\n",
        "import numpy as np\n",
        "from imutils import paths\n",
        "from skimage.io import imshow"
      ],
      "metadata": {
        "id": "GabOTeB5Dk1R"
      },
      "execution_count": 2,
      "outputs": []
    },
    {
      "cell_type": "code",
      "source": [
        "bt_data = pd.read_csv('drive/MyDrive/Datasets/Question 4/Qn3_Braintumor/Brain_Tumor.csv')\n",
        "\n",
        "bt_data"
      ],
      "metadata": {
        "colab": {
          "base_uri": "https://localhost:8080/",
          "height": 423
        },
        "id": "T-YblubxDYZJ",
        "outputId": "200434b0-3a29-439f-b8ba-36815741a189"
      },
      "execution_count": 3,
      "outputs": [
        {
          "output_type": "execute_result",
          "data": {
            "text/plain": [
              "          Image  Class       Mean     Variance  Standard Deviation   Entropy  \\\n",
              "0        Image1      0   6.535339   619.587845           24.891522  0.109059   \n",
              "1        Image2      0   8.749969   805.957634           28.389393  0.266538   \n",
              "2        Image3      1   7.341095  1143.808219           33.820234  0.001467   \n",
              "3        Image4      1   5.958145   959.711985           30.979219  0.001477   \n",
              "4        Image5      0   7.315231   729.540579           27.010009  0.146761   \n",
              "...         ...    ...        ...          ...                 ...       ...   \n",
              "3757  Image3758      0  21.234512  1208.850174           34.768523  0.063774   \n",
              "3758  Image3759      0  20.435349  1227.151440           35.030721  0.066763   \n",
              "3759  Image3760      0  18.011520  1151.582765           33.934978  0.068396   \n",
              "3760  Image3761      0  13.330429   945.732779           30.752769  0.087872   \n",
              "3761  Image3762      0   6.110138   480.884025           21.929068  0.118171   \n",
              "\n",
              "      Skewness   Kurtosis    Contrast    Energy       ASM  Homogeneity  \\\n",
              "0     4.276477  18.900575   98.613971  0.293314  0.086033     0.530941   \n",
              "1     3.718116  14.464618   63.858816  0.475051  0.225674     0.651352   \n",
              "2     5.061750  26.479563   81.867206  0.031917  0.001019     0.268275   \n",
              "3     5.677977  33.428845  151.229741  0.032024  0.001026     0.243851   \n",
              "4     4.283221  19.079108  174.988756  0.343849  0.118232     0.501140   \n",
              "...        ...        ...         ...       ...       ...          ...   \n",
              "3757  2.082079   4.647310  158.437600  0.220666  0.048693     0.487131   \n",
              "3758  2.144625   4.882034  161.158675  0.225931  0.051045     0.502712   \n",
              "3759  2.308349   5.579498  167.130118  0.228930  0.052409     0.492269   \n",
              "3760  2.732822   7.757570  223.812932  0.261527  0.068397     0.480064   \n",
              "3761  4.110669  17.538826  239.251388  0.306224  0.093773     0.494333   \n",
              "\n",
              "      Dissimilarity  Correlation     Coarseness  \n",
              "0          4.473346     0.981939  7.458341e-155  \n",
              "1          3.220072     0.988834  7.458341e-155  \n",
              "2          5.981800     0.978014  7.458341e-155  \n",
              "3          7.700919     0.964189  7.458341e-155  \n",
              "4          6.834689     0.972789  7.458341e-155  \n",
              "...             ...          ...            ...  \n",
              "3757       5.211739     0.950972  7.458341e-155  \n",
              "3758       5.083126     0.952749  7.458341e-155  \n",
              "3759       5.103700     0.952181  7.458341e-155  \n",
              "3760       6.439784     0.940898  7.458341e-155  \n",
              "3761       6.787329     0.938731  7.458341e-155  \n",
              "\n",
              "[3762 rows x 15 columns]"
            ],
            "text/html": [
              "\n",
              "  <div id=\"df-d6bc5d15-3595-4c4b-8837-3a72b56ec17b\">\n",
              "    <div class=\"colab-df-container\">\n",
              "      <div>\n",
              "<style scoped>\n",
              "    .dataframe tbody tr th:only-of-type {\n",
              "        vertical-align: middle;\n",
              "    }\n",
              "\n",
              "    .dataframe tbody tr th {\n",
              "        vertical-align: top;\n",
              "    }\n",
              "\n",
              "    .dataframe thead th {\n",
              "        text-align: right;\n",
              "    }\n",
              "</style>\n",
              "<table border=\"1\" class=\"dataframe\">\n",
              "  <thead>\n",
              "    <tr style=\"text-align: right;\">\n",
              "      <th></th>\n",
              "      <th>Image</th>\n",
              "      <th>Class</th>\n",
              "      <th>Mean</th>\n",
              "      <th>Variance</th>\n",
              "      <th>Standard Deviation</th>\n",
              "      <th>Entropy</th>\n",
              "      <th>Skewness</th>\n",
              "      <th>Kurtosis</th>\n",
              "      <th>Contrast</th>\n",
              "      <th>Energy</th>\n",
              "      <th>ASM</th>\n",
              "      <th>Homogeneity</th>\n",
              "      <th>Dissimilarity</th>\n",
              "      <th>Correlation</th>\n",
              "      <th>Coarseness</th>\n",
              "    </tr>\n",
              "  </thead>\n",
              "  <tbody>\n",
              "    <tr>\n",
              "      <th>0</th>\n",
              "      <td>Image1</td>\n",
              "      <td>0</td>\n",
              "      <td>6.535339</td>\n",
              "      <td>619.587845</td>\n",
              "      <td>24.891522</td>\n",
              "      <td>0.109059</td>\n",
              "      <td>4.276477</td>\n",
              "      <td>18.900575</td>\n",
              "      <td>98.613971</td>\n",
              "      <td>0.293314</td>\n",
              "      <td>0.086033</td>\n",
              "      <td>0.530941</td>\n",
              "      <td>4.473346</td>\n",
              "      <td>0.981939</td>\n",
              "      <td>7.458341e-155</td>\n",
              "    </tr>\n",
              "    <tr>\n",
              "      <th>1</th>\n",
              "      <td>Image2</td>\n",
              "      <td>0</td>\n",
              "      <td>8.749969</td>\n",
              "      <td>805.957634</td>\n",
              "      <td>28.389393</td>\n",
              "      <td>0.266538</td>\n",
              "      <td>3.718116</td>\n",
              "      <td>14.464618</td>\n",
              "      <td>63.858816</td>\n",
              "      <td>0.475051</td>\n",
              "      <td>0.225674</td>\n",
              "      <td>0.651352</td>\n",
              "      <td>3.220072</td>\n",
              "      <td>0.988834</td>\n",
              "      <td>7.458341e-155</td>\n",
              "    </tr>\n",
              "    <tr>\n",
              "      <th>2</th>\n",
              "      <td>Image3</td>\n",
              "      <td>1</td>\n",
              "      <td>7.341095</td>\n",
              "      <td>1143.808219</td>\n",
              "      <td>33.820234</td>\n",
              "      <td>0.001467</td>\n",
              "      <td>5.061750</td>\n",
              "      <td>26.479563</td>\n",
              "      <td>81.867206</td>\n",
              "      <td>0.031917</td>\n",
              "      <td>0.001019</td>\n",
              "      <td>0.268275</td>\n",
              "      <td>5.981800</td>\n",
              "      <td>0.978014</td>\n",
              "      <td>7.458341e-155</td>\n",
              "    </tr>\n",
              "    <tr>\n",
              "      <th>3</th>\n",
              "      <td>Image4</td>\n",
              "      <td>1</td>\n",
              "      <td>5.958145</td>\n",
              "      <td>959.711985</td>\n",
              "      <td>30.979219</td>\n",
              "      <td>0.001477</td>\n",
              "      <td>5.677977</td>\n",
              "      <td>33.428845</td>\n",
              "      <td>151.229741</td>\n",
              "      <td>0.032024</td>\n",
              "      <td>0.001026</td>\n",
              "      <td>0.243851</td>\n",
              "      <td>7.700919</td>\n",
              "      <td>0.964189</td>\n",
              "      <td>7.458341e-155</td>\n",
              "    </tr>\n",
              "    <tr>\n",
              "      <th>4</th>\n",
              "      <td>Image5</td>\n",
              "      <td>0</td>\n",
              "      <td>7.315231</td>\n",
              "      <td>729.540579</td>\n",
              "      <td>27.010009</td>\n",
              "      <td>0.146761</td>\n",
              "      <td>4.283221</td>\n",
              "      <td>19.079108</td>\n",
              "      <td>174.988756</td>\n",
              "      <td>0.343849</td>\n",
              "      <td>0.118232</td>\n",
              "      <td>0.501140</td>\n",
              "      <td>6.834689</td>\n",
              "      <td>0.972789</td>\n",
              "      <td>7.458341e-155</td>\n",
              "    </tr>\n",
              "    <tr>\n",
              "      <th>...</th>\n",
              "      <td>...</td>\n",
              "      <td>...</td>\n",
              "      <td>...</td>\n",
              "      <td>...</td>\n",
              "      <td>...</td>\n",
              "      <td>...</td>\n",
              "      <td>...</td>\n",
              "      <td>...</td>\n",
              "      <td>...</td>\n",
              "      <td>...</td>\n",
              "      <td>...</td>\n",
              "      <td>...</td>\n",
              "      <td>...</td>\n",
              "      <td>...</td>\n",
              "      <td>...</td>\n",
              "    </tr>\n",
              "    <tr>\n",
              "      <th>3757</th>\n",
              "      <td>Image3758</td>\n",
              "      <td>0</td>\n",
              "      <td>21.234512</td>\n",
              "      <td>1208.850174</td>\n",
              "      <td>34.768523</td>\n",
              "      <td>0.063774</td>\n",
              "      <td>2.082079</td>\n",
              "      <td>4.647310</td>\n",
              "      <td>158.437600</td>\n",
              "      <td>0.220666</td>\n",
              "      <td>0.048693</td>\n",
              "      <td>0.487131</td>\n",
              "      <td>5.211739</td>\n",
              "      <td>0.950972</td>\n",
              "      <td>7.458341e-155</td>\n",
              "    </tr>\n",
              "    <tr>\n",
              "      <th>3758</th>\n",
              "      <td>Image3759</td>\n",
              "      <td>0</td>\n",
              "      <td>20.435349</td>\n",
              "      <td>1227.151440</td>\n",
              "      <td>35.030721</td>\n",
              "      <td>0.066763</td>\n",
              "      <td>2.144625</td>\n",
              "      <td>4.882034</td>\n",
              "      <td>161.158675</td>\n",
              "      <td>0.225931</td>\n",
              "      <td>0.051045</td>\n",
              "      <td>0.502712</td>\n",
              "      <td>5.083126</td>\n",
              "      <td>0.952749</td>\n",
              "      <td>7.458341e-155</td>\n",
              "    </tr>\n",
              "    <tr>\n",
              "      <th>3759</th>\n",
              "      <td>Image3760</td>\n",
              "      <td>0</td>\n",
              "      <td>18.011520</td>\n",
              "      <td>1151.582765</td>\n",
              "      <td>33.934978</td>\n",
              "      <td>0.068396</td>\n",
              "      <td>2.308349</td>\n",
              "      <td>5.579498</td>\n",
              "      <td>167.130118</td>\n",
              "      <td>0.228930</td>\n",
              "      <td>0.052409</td>\n",
              "      <td>0.492269</td>\n",
              "      <td>5.103700</td>\n",
              "      <td>0.952181</td>\n",
              "      <td>7.458341e-155</td>\n",
              "    </tr>\n",
              "    <tr>\n",
              "      <th>3760</th>\n",
              "      <td>Image3761</td>\n",
              "      <td>0</td>\n",
              "      <td>13.330429</td>\n",
              "      <td>945.732779</td>\n",
              "      <td>30.752769</td>\n",
              "      <td>0.087872</td>\n",
              "      <td>2.732822</td>\n",
              "      <td>7.757570</td>\n",
              "      <td>223.812932</td>\n",
              "      <td>0.261527</td>\n",
              "      <td>0.068397</td>\n",
              "      <td>0.480064</td>\n",
              "      <td>6.439784</td>\n",
              "      <td>0.940898</td>\n",
              "      <td>7.458341e-155</td>\n",
              "    </tr>\n",
              "    <tr>\n",
              "      <th>3761</th>\n",
              "      <td>Image3762</td>\n",
              "      <td>0</td>\n",
              "      <td>6.110138</td>\n",
              "      <td>480.884025</td>\n",
              "      <td>21.929068</td>\n",
              "      <td>0.118171</td>\n",
              "      <td>4.110669</td>\n",
              "      <td>17.538826</td>\n",
              "      <td>239.251388</td>\n",
              "      <td>0.306224</td>\n",
              "      <td>0.093773</td>\n",
              "      <td>0.494333</td>\n",
              "      <td>6.787329</td>\n",
              "      <td>0.938731</td>\n",
              "      <td>7.458341e-155</td>\n",
              "    </tr>\n",
              "  </tbody>\n",
              "</table>\n",
              "<p>3762 rows × 15 columns</p>\n",
              "</div>\n",
              "      <button class=\"colab-df-convert\" onclick=\"convertToInteractive('df-d6bc5d15-3595-4c4b-8837-3a72b56ec17b')\"\n",
              "              title=\"Convert this dataframe to an interactive table.\"\n",
              "              style=\"display:none;\">\n",
              "        \n",
              "  <svg xmlns=\"http://www.w3.org/2000/svg\" height=\"24px\"viewBox=\"0 0 24 24\"\n",
              "       width=\"24px\">\n",
              "    <path d=\"M0 0h24v24H0V0z\" fill=\"none\"/>\n",
              "    <path d=\"M18.56 5.44l.94 2.06.94-2.06 2.06-.94-2.06-.94-.94-2.06-.94 2.06-2.06.94zm-11 1L8.5 8.5l.94-2.06 2.06-.94-2.06-.94L8.5 2.5l-.94 2.06-2.06.94zm10 10l.94 2.06.94-2.06 2.06-.94-2.06-.94-.94-2.06-.94 2.06-2.06.94z\"/><path d=\"M17.41 7.96l-1.37-1.37c-.4-.4-.92-.59-1.43-.59-.52 0-1.04.2-1.43.59L10.3 9.45l-7.72 7.72c-.78.78-.78 2.05 0 2.83L4 21.41c.39.39.9.59 1.41.59.51 0 1.02-.2 1.41-.59l7.78-7.78 2.81-2.81c.8-.78.8-2.07 0-2.86zM5.41 20L4 18.59l7.72-7.72 1.47 1.35L5.41 20z\"/>\n",
              "  </svg>\n",
              "      </button>\n",
              "      \n",
              "  <style>\n",
              "    .colab-df-container {\n",
              "      display:flex;\n",
              "      flex-wrap:wrap;\n",
              "      gap: 12px;\n",
              "    }\n",
              "\n",
              "    .colab-df-convert {\n",
              "      background-color: #E8F0FE;\n",
              "      border: none;\n",
              "      border-radius: 50%;\n",
              "      cursor: pointer;\n",
              "      display: none;\n",
              "      fill: #1967D2;\n",
              "      height: 32px;\n",
              "      padding: 0 0 0 0;\n",
              "      width: 32px;\n",
              "    }\n",
              "\n",
              "    .colab-df-convert:hover {\n",
              "      background-color: #E2EBFA;\n",
              "      box-shadow: 0px 1px 2px rgba(60, 64, 67, 0.3), 0px 1px 3px 1px rgba(60, 64, 67, 0.15);\n",
              "      fill: #174EA6;\n",
              "    }\n",
              "\n",
              "    [theme=dark] .colab-df-convert {\n",
              "      background-color: #3B4455;\n",
              "      fill: #D2E3FC;\n",
              "    }\n",
              "\n",
              "    [theme=dark] .colab-df-convert:hover {\n",
              "      background-color: #434B5C;\n",
              "      box-shadow: 0px 1px 3px 1px rgba(0, 0, 0, 0.15);\n",
              "      filter: drop-shadow(0px 1px 2px rgba(0, 0, 0, 0.3));\n",
              "      fill: #FFFFFF;\n",
              "    }\n",
              "  </style>\n",
              "\n",
              "      <script>\n",
              "        const buttonEl =\n",
              "          document.querySelector('#df-d6bc5d15-3595-4c4b-8837-3a72b56ec17b button.colab-df-convert');\n",
              "        buttonEl.style.display =\n",
              "          google.colab.kernel.accessAllowed ? 'block' : 'none';\n",
              "\n",
              "        async function convertToInteractive(key) {\n",
              "          const element = document.querySelector('#df-d6bc5d15-3595-4c4b-8837-3a72b56ec17b');\n",
              "          const dataTable =\n",
              "            await google.colab.kernel.invokeFunction('convertToInteractive',\n",
              "                                                     [key], {});\n",
              "          if (!dataTable) return;\n",
              "\n",
              "          const docLinkHtml = 'Like what you see? Visit the ' +\n",
              "            '<a target=\"_blank\" href=https://colab.research.google.com/notebooks/data_table.ipynb>data table notebook</a>'\n",
              "            + ' to learn more about interactive tables.';\n",
              "          element.innerHTML = '';\n",
              "          dataTable['output_type'] = 'display_data';\n",
              "          await google.colab.output.renderOutput(dataTable, element);\n",
              "          const docLink = document.createElement('div');\n",
              "          docLink.innerHTML = docLinkHtml;\n",
              "          element.appendChild(docLink);\n",
              "        }\n",
              "      </script>\n",
              "    </div>\n",
              "  </div>\n",
              "  "
            ]
          },
          "metadata": {},
          "execution_count": 3
        }
      ]
    },
    {
      "cell_type": "code",
      "source": [
        ""
      ],
      "metadata": {
        "id": "lyxq5BbKRyaR"
      },
      "execution_count": 3,
      "outputs": []
    },
    {
      "cell_type": "markdown",
      "source": [
        "(i) Data Cleaning:"
      ],
      "metadata": {
        "id": "RrsmDGVvb_3f"
      }
    },
    {
      "cell_type": "code",
      "source": [
        "bt_data = bt_data.dropna()"
      ],
      "metadata": {
        "id": "1qJlLYcIE04d"
      },
      "execution_count": 4,
      "outputs": []
    },
    {
      "cell_type": "markdown",
      "source": [
        "(ii) Eploratory Data Analysis:"
      ],
      "metadata": {
        "id": "m4MBMMvkcJhf"
      }
    },
    {
      "cell_type": "code",
      "source": [
        "bt_data.info()"
      ],
      "metadata": {
        "colab": {
          "base_uri": "https://localhost:8080/"
        },
        "id": "i9cYFViQLo0_",
        "outputId": "4f32a405-5001-4be3-ed1a-776604a9d34f"
      },
      "execution_count": 5,
      "outputs": [
        {
          "output_type": "stream",
          "name": "stdout",
          "text": [
            "<class 'pandas.core.frame.DataFrame'>\n",
            "Int64Index: 3762 entries, 0 to 3761\n",
            "Data columns (total 15 columns):\n",
            " #   Column              Non-Null Count  Dtype  \n",
            "---  ------              --------------  -----  \n",
            " 0   Image               3762 non-null   object \n",
            " 1   Class               3762 non-null   int64  \n",
            " 2   Mean                3762 non-null   float64\n",
            " 3   Variance            3762 non-null   float64\n",
            " 4   Standard Deviation  3762 non-null   float64\n",
            " 5   Entropy             3762 non-null   float64\n",
            " 6   Skewness            3762 non-null   float64\n",
            " 7   Kurtosis            3762 non-null   float64\n",
            " 8   Contrast            3762 non-null   float64\n",
            " 9   Energy              3762 non-null   float64\n",
            " 10  ASM                 3762 non-null   float64\n",
            " 11  Homogeneity         3762 non-null   float64\n",
            " 12  Dissimilarity       3762 non-null   float64\n",
            " 13  Correlation         3762 non-null   float64\n",
            " 14  Coarseness          3762 non-null   float64\n",
            "dtypes: float64(13), int64(1), object(1)\n",
            "memory usage: 470.2+ KB\n"
          ]
        }
      ]
    },
    {
      "cell_type": "code",
      "source": [
        "bt_data.describe()"
      ],
      "metadata": {
        "colab": {
          "base_uri": "https://localhost:8080/",
          "height": 300
        },
        "id": "nHKC9Sr7MKyt",
        "outputId": "04ff0292-1671-451f-900d-43eeece91eb7"
      },
      "execution_count": 6,
      "outputs": [
        {
          "output_type": "execute_result",
          "data": {
            "text/plain": [
              "             Class         Mean     Variance  Standard Deviation      Entropy  \\\n",
              "count  3762.000000  3762.000000  3762.000000         3762.000000  3762.000000   \n",
              "mean      0.447368     9.488890   711.101063           25.182271     0.073603   \n",
              "std       0.497288     5.728022   467.466896            8.773526     0.070269   \n",
              "min       0.000000     0.078659     3.145628            1.773592     0.000882   \n",
              "25%       0.000000     4.982395   363.225459           19.058475     0.006856   \n",
              "50%       0.000000     8.477531   622.580417           24.951560     0.066628   \n",
              "75%       1.000000    13.212723   966.954319           31.095889     0.113284   \n",
              "max       1.000000    33.239975  2910.581879           53.949809     0.394539   \n",
              "\n",
              "          Skewness     Kurtosis     Contrast       Energy          ASM  \\\n",
              "count  3762.000000  3762.000000  3762.000000  3762.000000  3762.000000   \n",
              "mean      4.102727    24.389071   127.961459     0.204705     0.058632   \n",
              "std       2.560940    56.434747   109.499601     0.129352     0.058300   \n",
              "min       1.886014     3.942402     3.194733     0.024731     0.000612   \n",
              "25%       2.620203     7.252852    72.125208     0.069617     0.004847   \n",
              "50%       3.422210    12.359088   106.737418     0.225496     0.050849   \n",
              "75%       4.651737    22.640304   161.059006     0.298901     0.089342   \n",
              "max      36.931294  1371.640060  3382.574163     0.589682     0.347725   \n",
              "\n",
              "       Homogeneity  Dissimilarity  Correlation     Coarseness  \n",
              "count  3762.000000    3762.000000  3762.000000   3.762000e+03  \n",
              "mean      0.479252       4.698498     0.955767  7.458341e-155  \n",
              "std       0.127929       1.850173     0.026157   0.000000e+00  \n",
              "min       0.105490       0.681121     0.549426  7.458341e-155  \n",
              "25%       0.364973       3.412363     0.947138  7.458341e-155  \n",
              "50%       0.512551       4.482404     0.961610  7.458341e-155  \n",
              "75%       0.575557       5.723821     0.971355  7.458341e-155  \n",
              "max       0.810921      27.827751     0.989972  7.458341e-155  "
            ],
            "text/html": [
              "\n",
              "  <div id=\"df-cdbead95-9265-4cd1-b486-e4a1d95e9ad8\">\n",
              "    <div class=\"colab-df-container\">\n",
              "      <div>\n",
              "<style scoped>\n",
              "    .dataframe tbody tr th:only-of-type {\n",
              "        vertical-align: middle;\n",
              "    }\n",
              "\n",
              "    .dataframe tbody tr th {\n",
              "        vertical-align: top;\n",
              "    }\n",
              "\n",
              "    .dataframe thead th {\n",
              "        text-align: right;\n",
              "    }\n",
              "</style>\n",
              "<table border=\"1\" class=\"dataframe\">\n",
              "  <thead>\n",
              "    <tr style=\"text-align: right;\">\n",
              "      <th></th>\n",
              "      <th>Class</th>\n",
              "      <th>Mean</th>\n",
              "      <th>Variance</th>\n",
              "      <th>Standard Deviation</th>\n",
              "      <th>Entropy</th>\n",
              "      <th>Skewness</th>\n",
              "      <th>Kurtosis</th>\n",
              "      <th>Contrast</th>\n",
              "      <th>Energy</th>\n",
              "      <th>ASM</th>\n",
              "      <th>Homogeneity</th>\n",
              "      <th>Dissimilarity</th>\n",
              "      <th>Correlation</th>\n",
              "      <th>Coarseness</th>\n",
              "    </tr>\n",
              "  </thead>\n",
              "  <tbody>\n",
              "    <tr>\n",
              "      <th>count</th>\n",
              "      <td>3762.000000</td>\n",
              "      <td>3762.000000</td>\n",
              "      <td>3762.000000</td>\n",
              "      <td>3762.000000</td>\n",
              "      <td>3762.000000</td>\n",
              "      <td>3762.000000</td>\n",
              "      <td>3762.000000</td>\n",
              "      <td>3762.000000</td>\n",
              "      <td>3762.000000</td>\n",
              "      <td>3762.000000</td>\n",
              "      <td>3762.000000</td>\n",
              "      <td>3762.000000</td>\n",
              "      <td>3762.000000</td>\n",
              "      <td>3.762000e+03</td>\n",
              "    </tr>\n",
              "    <tr>\n",
              "      <th>mean</th>\n",
              "      <td>0.447368</td>\n",
              "      <td>9.488890</td>\n",
              "      <td>711.101063</td>\n",
              "      <td>25.182271</td>\n",
              "      <td>0.073603</td>\n",
              "      <td>4.102727</td>\n",
              "      <td>24.389071</td>\n",
              "      <td>127.961459</td>\n",
              "      <td>0.204705</td>\n",
              "      <td>0.058632</td>\n",
              "      <td>0.479252</td>\n",
              "      <td>4.698498</td>\n",
              "      <td>0.955767</td>\n",
              "      <td>7.458341e-155</td>\n",
              "    </tr>\n",
              "    <tr>\n",
              "      <th>std</th>\n",
              "      <td>0.497288</td>\n",
              "      <td>5.728022</td>\n",
              "      <td>467.466896</td>\n",
              "      <td>8.773526</td>\n",
              "      <td>0.070269</td>\n",
              "      <td>2.560940</td>\n",
              "      <td>56.434747</td>\n",
              "      <td>109.499601</td>\n",
              "      <td>0.129352</td>\n",
              "      <td>0.058300</td>\n",
              "      <td>0.127929</td>\n",
              "      <td>1.850173</td>\n",
              "      <td>0.026157</td>\n",
              "      <td>0.000000e+00</td>\n",
              "    </tr>\n",
              "    <tr>\n",
              "      <th>min</th>\n",
              "      <td>0.000000</td>\n",
              "      <td>0.078659</td>\n",
              "      <td>3.145628</td>\n",
              "      <td>1.773592</td>\n",
              "      <td>0.000882</td>\n",
              "      <td>1.886014</td>\n",
              "      <td>3.942402</td>\n",
              "      <td>3.194733</td>\n",
              "      <td>0.024731</td>\n",
              "      <td>0.000612</td>\n",
              "      <td>0.105490</td>\n",
              "      <td>0.681121</td>\n",
              "      <td>0.549426</td>\n",
              "      <td>7.458341e-155</td>\n",
              "    </tr>\n",
              "    <tr>\n",
              "      <th>25%</th>\n",
              "      <td>0.000000</td>\n",
              "      <td>4.982395</td>\n",
              "      <td>363.225459</td>\n",
              "      <td>19.058475</td>\n",
              "      <td>0.006856</td>\n",
              "      <td>2.620203</td>\n",
              "      <td>7.252852</td>\n",
              "      <td>72.125208</td>\n",
              "      <td>0.069617</td>\n",
              "      <td>0.004847</td>\n",
              "      <td>0.364973</td>\n",
              "      <td>3.412363</td>\n",
              "      <td>0.947138</td>\n",
              "      <td>7.458341e-155</td>\n",
              "    </tr>\n",
              "    <tr>\n",
              "      <th>50%</th>\n",
              "      <td>0.000000</td>\n",
              "      <td>8.477531</td>\n",
              "      <td>622.580417</td>\n",
              "      <td>24.951560</td>\n",
              "      <td>0.066628</td>\n",
              "      <td>3.422210</td>\n",
              "      <td>12.359088</td>\n",
              "      <td>106.737418</td>\n",
              "      <td>0.225496</td>\n",
              "      <td>0.050849</td>\n",
              "      <td>0.512551</td>\n",
              "      <td>4.482404</td>\n",
              "      <td>0.961610</td>\n",
              "      <td>7.458341e-155</td>\n",
              "    </tr>\n",
              "    <tr>\n",
              "      <th>75%</th>\n",
              "      <td>1.000000</td>\n",
              "      <td>13.212723</td>\n",
              "      <td>966.954319</td>\n",
              "      <td>31.095889</td>\n",
              "      <td>0.113284</td>\n",
              "      <td>4.651737</td>\n",
              "      <td>22.640304</td>\n",
              "      <td>161.059006</td>\n",
              "      <td>0.298901</td>\n",
              "      <td>0.089342</td>\n",
              "      <td>0.575557</td>\n",
              "      <td>5.723821</td>\n",
              "      <td>0.971355</td>\n",
              "      <td>7.458341e-155</td>\n",
              "    </tr>\n",
              "    <tr>\n",
              "      <th>max</th>\n",
              "      <td>1.000000</td>\n",
              "      <td>33.239975</td>\n",
              "      <td>2910.581879</td>\n",
              "      <td>53.949809</td>\n",
              "      <td>0.394539</td>\n",
              "      <td>36.931294</td>\n",
              "      <td>1371.640060</td>\n",
              "      <td>3382.574163</td>\n",
              "      <td>0.589682</td>\n",
              "      <td>0.347725</td>\n",
              "      <td>0.810921</td>\n",
              "      <td>27.827751</td>\n",
              "      <td>0.989972</td>\n",
              "      <td>7.458341e-155</td>\n",
              "    </tr>\n",
              "  </tbody>\n",
              "</table>\n",
              "</div>\n",
              "      <button class=\"colab-df-convert\" onclick=\"convertToInteractive('df-cdbead95-9265-4cd1-b486-e4a1d95e9ad8')\"\n",
              "              title=\"Convert this dataframe to an interactive table.\"\n",
              "              style=\"display:none;\">\n",
              "        \n",
              "  <svg xmlns=\"http://www.w3.org/2000/svg\" height=\"24px\"viewBox=\"0 0 24 24\"\n",
              "       width=\"24px\">\n",
              "    <path d=\"M0 0h24v24H0V0z\" fill=\"none\"/>\n",
              "    <path d=\"M18.56 5.44l.94 2.06.94-2.06 2.06-.94-2.06-.94-.94-2.06-.94 2.06-2.06.94zm-11 1L8.5 8.5l.94-2.06 2.06-.94-2.06-.94L8.5 2.5l-.94 2.06-2.06.94zm10 10l.94 2.06.94-2.06 2.06-.94-2.06-.94-.94-2.06-.94 2.06-2.06.94z\"/><path d=\"M17.41 7.96l-1.37-1.37c-.4-.4-.92-.59-1.43-.59-.52 0-1.04.2-1.43.59L10.3 9.45l-7.72 7.72c-.78.78-.78 2.05 0 2.83L4 21.41c.39.39.9.59 1.41.59.51 0 1.02-.2 1.41-.59l7.78-7.78 2.81-2.81c.8-.78.8-2.07 0-2.86zM5.41 20L4 18.59l7.72-7.72 1.47 1.35L5.41 20z\"/>\n",
              "  </svg>\n",
              "      </button>\n",
              "      \n",
              "  <style>\n",
              "    .colab-df-container {\n",
              "      display:flex;\n",
              "      flex-wrap:wrap;\n",
              "      gap: 12px;\n",
              "    }\n",
              "\n",
              "    .colab-df-convert {\n",
              "      background-color: #E8F0FE;\n",
              "      border: none;\n",
              "      border-radius: 50%;\n",
              "      cursor: pointer;\n",
              "      display: none;\n",
              "      fill: #1967D2;\n",
              "      height: 32px;\n",
              "      padding: 0 0 0 0;\n",
              "      width: 32px;\n",
              "    }\n",
              "\n",
              "    .colab-df-convert:hover {\n",
              "      background-color: #E2EBFA;\n",
              "      box-shadow: 0px 1px 2px rgba(60, 64, 67, 0.3), 0px 1px 3px 1px rgba(60, 64, 67, 0.15);\n",
              "      fill: #174EA6;\n",
              "    }\n",
              "\n",
              "    [theme=dark] .colab-df-convert {\n",
              "      background-color: #3B4455;\n",
              "      fill: #D2E3FC;\n",
              "    }\n",
              "\n",
              "    [theme=dark] .colab-df-convert:hover {\n",
              "      background-color: #434B5C;\n",
              "      box-shadow: 0px 1px 3px 1px rgba(0, 0, 0, 0.15);\n",
              "      filter: drop-shadow(0px 1px 2px rgba(0, 0, 0, 0.3));\n",
              "      fill: #FFFFFF;\n",
              "    }\n",
              "  </style>\n",
              "\n",
              "      <script>\n",
              "        const buttonEl =\n",
              "          document.querySelector('#df-cdbead95-9265-4cd1-b486-e4a1d95e9ad8 button.colab-df-convert');\n",
              "        buttonEl.style.display =\n",
              "          google.colab.kernel.accessAllowed ? 'block' : 'none';\n",
              "\n",
              "        async function convertToInteractive(key) {\n",
              "          const element = document.querySelector('#df-cdbead95-9265-4cd1-b486-e4a1d95e9ad8');\n",
              "          const dataTable =\n",
              "            await google.colab.kernel.invokeFunction('convertToInteractive',\n",
              "                                                     [key], {});\n",
              "          if (!dataTable) return;\n",
              "\n",
              "          const docLinkHtml = 'Like what you see? Visit the ' +\n",
              "            '<a target=\"_blank\" href=https://colab.research.google.com/notebooks/data_table.ipynb>data table notebook</a>'\n",
              "            + ' to learn more about interactive tables.';\n",
              "          element.innerHTML = '';\n",
              "          dataTable['output_type'] = 'display_data';\n",
              "          await google.colab.output.renderOutput(dataTable, element);\n",
              "          const docLink = document.createElement('div');\n",
              "          docLink.innerHTML = docLinkHtml;\n",
              "          element.appendChild(docLink);\n",
              "        }\n",
              "      </script>\n",
              "    </div>\n",
              "  </div>\n",
              "  "
            ]
          },
          "metadata": {},
          "execution_count": 6
        }
      ]
    },
    {
      "cell_type": "code",
      "source": [
        "bt_data.head()"
      ],
      "metadata": {
        "colab": {
          "base_uri": "https://localhost:8080/",
          "height": 206
        },
        "id": "p5ve4ad8Mg6i",
        "outputId": "beaf6e9a-17b5-4df3-9766-7a34eb8d45a1"
      },
      "execution_count": 7,
      "outputs": [
        {
          "output_type": "execute_result",
          "data": {
            "text/plain": [
              "    Image  Class      Mean     Variance  Standard Deviation   Entropy  \\\n",
              "0  Image1      0  6.535339   619.587845           24.891522  0.109059   \n",
              "1  Image2      0  8.749969   805.957634           28.389393  0.266538   \n",
              "2  Image3      1  7.341095  1143.808219           33.820234  0.001467   \n",
              "3  Image4      1  5.958145   959.711985           30.979219  0.001477   \n",
              "4  Image5      0  7.315231   729.540579           27.010009  0.146761   \n",
              "\n",
              "   Skewness   Kurtosis    Contrast    Energy       ASM  Homogeneity  \\\n",
              "0  4.276477  18.900575   98.613971  0.293314  0.086033     0.530941   \n",
              "1  3.718116  14.464618   63.858816  0.475051  0.225674     0.651352   \n",
              "2  5.061750  26.479563   81.867206  0.031917  0.001019     0.268275   \n",
              "3  5.677977  33.428845  151.229741  0.032024  0.001026     0.243851   \n",
              "4  4.283221  19.079108  174.988756  0.343849  0.118232     0.501140   \n",
              "\n",
              "   Dissimilarity  Correlation     Coarseness  \n",
              "0       4.473346     0.981939  7.458341e-155  \n",
              "1       3.220072     0.988834  7.458341e-155  \n",
              "2       5.981800     0.978014  7.458341e-155  \n",
              "3       7.700919     0.964189  7.458341e-155  \n",
              "4       6.834689     0.972789  7.458341e-155  "
            ],
            "text/html": [
              "\n",
              "  <div id=\"df-0128bbae-6301-4470-b219-badd74133d5b\">\n",
              "    <div class=\"colab-df-container\">\n",
              "      <div>\n",
              "<style scoped>\n",
              "    .dataframe tbody tr th:only-of-type {\n",
              "        vertical-align: middle;\n",
              "    }\n",
              "\n",
              "    .dataframe tbody tr th {\n",
              "        vertical-align: top;\n",
              "    }\n",
              "\n",
              "    .dataframe thead th {\n",
              "        text-align: right;\n",
              "    }\n",
              "</style>\n",
              "<table border=\"1\" class=\"dataframe\">\n",
              "  <thead>\n",
              "    <tr style=\"text-align: right;\">\n",
              "      <th></th>\n",
              "      <th>Image</th>\n",
              "      <th>Class</th>\n",
              "      <th>Mean</th>\n",
              "      <th>Variance</th>\n",
              "      <th>Standard Deviation</th>\n",
              "      <th>Entropy</th>\n",
              "      <th>Skewness</th>\n",
              "      <th>Kurtosis</th>\n",
              "      <th>Contrast</th>\n",
              "      <th>Energy</th>\n",
              "      <th>ASM</th>\n",
              "      <th>Homogeneity</th>\n",
              "      <th>Dissimilarity</th>\n",
              "      <th>Correlation</th>\n",
              "      <th>Coarseness</th>\n",
              "    </tr>\n",
              "  </thead>\n",
              "  <tbody>\n",
              "    <tr>\n",
              "      <th>0</th>\n",
              "      <td>Image1</td>\n",
              "      <td>0</td>\n",
              "      <td>6.535339</td>\n",
              "      <td>619.587845</td>\n",
              "      <td>24.891522</td>\n",
              "      <td>0.109059</td>\n",
              "      <td>4.276477</td>\n",
              "      <td>18.900575</td>\n",
              "      <td>98.613971</td>\n",
              "      <td>0.293314</td>\n",
              "      <td>0.086033</td>\n",
              "      <td>0.530941</td>\n",
              "      <td>4.473346</td>\n",
              "      <td>0.981939</td>\n",
              "      <td>7.458341e-155</td>\n",
              "    </tr>\n",
              "    <tr>\n",
              "      <th>1</th>\n",
              "      <td>Image2</td>\n",
              "      <td>0</td>\n",
              "      <td>8.749969</td>\n",
              "      <td>805.957634</td>\n",
              "      <td>28.389393</td>\n",
              "      <td>0.266538</td>\n",
              "      <td>3.718116</td>\n",
              "      <td>14.464618</td>\n",
              "      <td>63.858816</td>\n",
              "      <td>0.475051</td>\n",
              "      <td>0.225674</td>\n",
              "      <td>0.651352</td>\n",
              "      <td>3.220072</td>\n",
              "      <td>0.988834</td>\n",
              "      <td>7.458341e-155</td>\n",
              "    </tr>\n",
              "    <tr>\n",
              "      <th>2</th>\n",
              "      <td>Image3</td>\n",
              "      <td>1</td>\n",
              "      <td>7.341095</td>\n",
              "      <td>1143.808219</td>\n",
              "      <td>33.820234</td>\n",
              "      <td>0.001467</td>\n",
              "      <td>5.061750</td>\n",
              "      <td>26.479563</td>\n",
              "      <td>81.867206</td>\n",
              "      <td>0.031917</td>\n",
              "      <td>0.001019</td>\n",
              "      <td>0.268275</td>\n",
              "      <td>5.981800</td>\n",
              "      <td>0.978014</td>\n",
              "      <td>7.458341e-155</td>\n",
              "    </tr>\n",
              "    <tr>\n",
              "      <th>3</th>\n",
              "      <td>Image4</td>\n",
              "      <td>1</td>\n",
              "      <td>5.958145</td>\n",
              "      <td>959.711985</td>\n",
              "      <td>30.979219</td>\n",
              "      <td>0.001477</td>\n",
              "      <td>5.677977</td>\n",
              "      <td>33.428845</td>\n",
              "      <td>151.229741</td>\n",
              "      <td>0.032024</td>\n",
              "      <td>0.001026</td>\n",
              "      <td>0.243851</td>\n",
              "      <td>7.700919</td>\n",
              "      <td>0.964189</td>\n",
              "      <td>7.458341e-155</td>\n",
              "    </tr>\n",
              "    <tr>\n",
              "      <th>4</th>\n",
              "      <td>Image5</td>\n",
              "      <td>0</td>\n",
              "      <td>7.315231</td>\n",
              "      <td>729.540579</td>\n",
              "      <td>27.010009</td>\n",
              "      <td>0.146761</td>\n",
              "      <td>4.283221</td>\n",
              "      <td>19.079108</td>\n",
              "      <td>174.988756</td>\n",
              "      <td>0.343849</td>\n",
              "      <td>0.118232</td>\n",
              "      <td>0.501140</td>\n",
              "      <td>6.834689</td>\n",
              "      <td>0.972789</td>\n",
              "      <td>7.458341e-155</td>\n",
              "    </tr>\n",
              "  </tbody>\n",
              "</table>\n",
              "</div>\n",
              "      <button class=\"colab-df-convert\" onclick=\"convertToInteractive('df-0128bbae-6301-4470-b219-badd74133d5b')\"\n",
              "              title=\"Convert this dataframe to an interactive table.\"\n",
              "              style=\"display:none;\">\n",
              "        \n",
              "  <svg xmlns=\"http://www.w3.org/2000/svg\" height=\"24px\"viewBox=\"0 0 24 24\"\n",
              "       width=\"24px\">\n",
              "    <path d=\"M0 0h24v24H0V0z\" fill=\"none\"/>\n",
              "    <path d=\"M18.56 5.44l.94 2.06.94-2.06 2.06-.94-2.06-.94-.94-2.06-.94 2.06-2.06.94zm-11 1L8.5 8.5l.94-2.06 2.06-.94-2.06-.94L8.5 2.5l-.94 2.06-2.06.94zm10 10l.94 2.06.94-2.06 2.06-.94-2.06-.94-.94-2.06-.94 2.06-2.06.94z\"/><path d=\"M17.41 7.96l-1.37-1.37c-.4-.4-.92-.59-1.43-.59-.52 0-1.04.2-1.43.59L10.3 9.45l-7.72 7.72c-.78.78-.78 2.05 0 2.83L4 21.41c.39.39.9.59 1.41.59.51 0 1.02-.2 1.41-.59l7.78-7.78 2.81-2.81c.8-.78.8-2.07 0-2.86zM5.41 20L4 18.59l7.72-7.72 1.47 1.35L5.41 20z\"/>\n",
              "  </svg>\n",
              "      </button>\n",
              "      \n",
              "  <style>\n",
              "    .colab-df-container {\n",
              "      display:flex;\n",
              "      flex-wrap:wrap;\n",
              "      gap: 12px;\n",
              "    }\n",
              "\n",
              "    .colab-df-convert {\n",
              "      background-color: #E8F0FE;\n",
              "      border: none;\n",
              "      border-radius: 50%;\n",
              "      cursor: pointer;\n",
              "      display: none;\n",
              "      fill: #1967D2;\n",
              "      height: 32px;\n",
              "      padding: 0 0 0 0;\n",
              "      width: 32px;\n",
              "    }\n",
              "\n",
              "    .colab-df-convert:hover {\n",
              "      background-color: #E2EBFA;\n",
              "      box-shadow: 0px 1px 2px rgba(60, 64, 67, 0.3), 0px 1px 3px 1px rgba(60, 64, 67, 0.15);\n",
              "      fill: #174EA6;\n",
              "    }\n",
              "\n",
              "    [theme=dark] .colab-df-convert {\n",
              "      background-color: #3B4455;\n",
              "      fill: #D2E3FC;\n",
              "    }\n",
              "\n",
              "    [theme=dark] .colab-df-convert:hover {\n",
              "      background-color: #434B5C;\n",
              "      box-shadow: 0px 1px 3px 1px rgba(0, 0, 0, 0.15);\n",
              "      filter: drop-shadow(0px 1px 2px rgba(0, 0, 0, 0.3));\n",
              "      fill: #FFFFFF;\n",
              "    }\n",
              "  </style>\n",
              "\n",
              "      <script>\n",
              "        const buttonEl =\n",
              "          document.querySelector('#df-0128bbae-6301-4470-b219-badd74133d5b button.colab-df-convert');\n",
              "        buttonEl.style.display =\n",
              "          google.colab.kernel.accessAllowed ? 'block' : 'none';\n",
              "\n",
              "        async function convertToInteractive(key) {\n",
              "          const element = document.querySelector('#df-0128bbae-6301-4470-b219-badd74133d5b');\n",
              "          const dataTable =\n",
              "            await google.colab.kernel.invokeFunction('convertToInteractive',\n",
              "                                                     [key], {});\n",
              "          if (!dataTable) return;\n",
              "\n",
              "          const docLinkHtml = 'Like what you see? Visit the ' +\n",
              "            '<a target=\"_blank\" href=https://colab.research.google.com/notebooks/data_table.ipynb>data table notebook</a>'\n",
              "            + ' to learn more about interactive tables.';\n",
              "          element.innerHTML = '';\n",
              "          dataTable['output_type'] = 'display_data';\n",
              "          await google.colab.output.renderOutput(dataTable, element);\n",
              "          const docLink = document.createElement('div');\n",
              "          docLink.innerHTML = docLinkHtml;\n",
              "          element.appendChild(docLink);\n",
              "        }\n",
              "      </script>\n",
              "    </div>\n",
              "  </div>\n",
              "  "
            ]
          },
          "metadata": {},
          "execution_count": 7
        }
      ]
    },
    {
      "cell_type": "code",
      "source": [
        "print(bt_data.corr())"
      ],
      "metadata": {
        "colab": {
          "base_uri": "https://localhost:8080/"
        },
        "id": "UMDm_69PFx-j",
        "outputId": "817340c2-996b-47ad-b1a7-0717eab3da26"
      },
      "execution_count": 8,
      "outputs": [
        {
          "output_type": "stream",
          "name": "stdout",
          "text": [
            "                       Class      Mean  Variance  Standard Deviation  \\\n",
            "Class               1.000000 -0.095729  0.308818            0.285568   \n",
            "Mean               -0.095729  1.000000  0.783027            0.790984   \n",
            "Variance            0.308818  0.783027  1.000000            0.975699   \n",
            "Standard Deviation  0.285568  0.790984  0.975699            1.000000   \n",
            "Entropy            -0.778180 -0.099729 -0.344432           -0.345127   \n",
            "Skewness            0.402644 -0.601593 -0.347399           -0.425428   \n",
            "Kurtosis            0.239844 -0.358163 -0.248312           -0.329798   \n",
            "Contrast            0.212643 -0.050974  0.135494            0.117981   \n",
            "Energy             -0.862413 -0.014863 -0.335470           -0.331103   \n",
            "ASM                -0.758255 -0.109393 -0.341061           -0.342530   \n",
            "Homogeneity        -0.847529  0.095556 -0.290527           -0.288801   \n",
            "Dissimilarity       0.556319 -0.113864  0.235487            0.224773   \n",
            "Correlation        -0.108601  0.293693  0.288037            0.354161   \n",
            "Coarseness               NaN       NaN       NaN                 NaN   \n",
            "\n",
            "                     Entropy  Skewness  Kurtosis  Contrast    Energy  \\\n",
            "Class              -0.778180  0.402644  0.239844  0.212643 -0.862413   \n",
            "Mean               -0.099729 -0.601593 -0.358163 -0.050974 -0.014863   \n",
            "Variance           -0.344432 -0.347399 -0.248312  0.135494 -0.335470   \n",
            "Standard Deviation -0.345127 -0.425428 -0.329798  0.117981 -0.331103   \n",
            "Entropy             1.000000 -0.222222 -0.140125 -0.140769  0.971260   \n",
            "Skewness           -0.222222  1.000000  0.899713  0.349856 -0.295413   \n",
            "Kurtosis           -0.140125  0.899713  1.000000  0.296664 -0.172454   \n",
            "Contrast           -0.140769  0.349856  0.296664  1.000000 -0.130708   \n",
            "Energy              0.971260 -0.295413 -0.172454 -0.130708  1.000000   \n",
            "ASM                 0.999213 -0.209289 -0.133741 -0.139276  0.961628   \n",
            "Homogeneity         0.852019 -0.470054 -0.307314 -0.270119  0.915988   \n",
            "Dissimilarity      -0.502363  0.511931  0.375939  0.761497 -0.545774   \n",
            "Correlation         0.122080 -0.570919 -0.589211 -0.427443  0.123680   \n",
            "Coarseness               NaN       NaN       NaN       NaN       NaN   \n",
            "\n",
            "                         ASM  Homogeneity  Dissimilarity  Correlation  \\\n",
            "Class              -0.758255    -0.847529       0.556319    -0.108601   \n",
            "Mean               -0.109393     0.095556      -0.113864     0.293693   \n",
            "Variance           -0.341061    -0.290527       0.235487     0.288037   \n",
            "Standard Deviation -0.342530    -0.288801       0.224773     0.354161   \n",
            "Entropy             0.999213     0.852019      -0.502363     0.122080   \n",
            "Skewness           -0.209289    -0.470054       0.511931    -0.570919   \n",
            "Kurtosis           -0.133741    -0.307314       0.375939    -0.589211   \n",
            "Contrast           -0.139276    -0.270119       0.761497    -0.427443   \n",
            "Energy              0.961628     0.915988      -0.545774     0.123680   \n",
            "ASM                 1.000000     0.837139      -0.491813     0.121054   \n",
            "Homogeneity         0.837139     1.000000      -0.746675     0.198639   \n",
            "Dissimilarity      -0.491813    -0.746675       1.000000    -0.393013   \n",
            "Correlation         0.121054     0.198639      -0.393013     1.000000   \n",
            "Coarseness               NaN          NaN            NaN          NaN   \n",
            "\n",
            "                    Coarseness  \n",
            "Class                      NaN  \n",
            "Mean                       NaN  \n",
            "Variance                   NaN  \n",
            "Standard Deviation         NaN  \n",
            "Entropy                    NaN  \n",
            "Skewness                   NaN  \n",
            "Kurtosis                   NaN  \n",
            "Contrast                   NaN  \n",
            "Energy                     NaN  \n",
            "ASM                        NaN  \n",
            "Homogeneity                NaN  \n",
            "Dissimilarity              NaN  \n",
            "Correlation                NaN  \n",
            "Coarseness                 NaN  \n"
          ]
        }
      ]
    },
    {
      "cell_type": "code",
      "source": [
        "plt.figure(figsize=(10,10))\n",
        "sb.heatmap(bt_data.corr())"
      ],
      "metadata": {
        "colab": {
          "base_uri": "https://localhost:8080/",
          "height": 700
        },
        "id": "0r8A79GJF2I8",
        "outputId": "d07cb0db-e217-48f2-c1da-d26f2a582b54"
      },
      "execution_count": 9,
      "outputs": [
        {
          "output_type": "execute_result",
          "data": {
            "text/plain": [
              "<matplotlib.axes._subplots.AxesSubplot at 0x7f139266a790>"
            ]
          },
          "metadata": {},
          "execution_count": 9
        },
        {
          "output_type": "display_data",
          "data": {
            "text/plain": [
              "<Figure size 720x720 with 2 Axes>"
            ],
            "image/png": "[encoded data removed]"
          },
          "metadata": {
            "needs_background": "light"
          }
        }
      ]
    },
    {
      "cell_type": "markdown",
      "source": [
        "(iii) Exploring Target Class(Tumor has or not)"
      ],
      "metadata": {
        "id": "ZXCR2_3OcQOu"
      }
    },
    {
      "cell_type": "code",
      "source": [
        "plt.figure(figsize=(8,6))\n",
        "\n",
        "p = sb.barplot(x=np.unique(bt_data['Class']), y=bt_data['Class'].value_counts())\n",
        "p.set_xlabel(\"Class\", fontsize = 10)\n",
        "p.set_ylabel(\"Count\", fontsize = 10)"
      ],
      "metadata": {
        "colab": {
          "base_uri": "https://localhost:8080/",
          "height": 406
        },
        "id": "aCfBpHfZHcla",
        "outputId": "0f738c95-2146-464e-b997-d14ca56a6ece"
      },
      "execution_count": 10,
      "outputs": [
        {
          "output_type": "execute_result",
          "data": {
            "text/plain": [
              "Text(0, 0.5, 'Count')"
            ]
          },
          "metadata": {},
          "execution_count": 10
        },
        {
          "output_type": "display_data",
          "data": {
            "text/plain": [
              "<Figure size 576x432 with 1 Axes>"
            ],
            "image/png": "[encoded data removed]"
          },
          "metadata": {
            "needs_background": "light"
          }
        }
      ]
    },
    {
      "cell_type": "markdown",
      "source": [
        "2.Machine Learning Approach using Logistic Regression"
      ],
      "metadata": {
        "id": "himZKR5IYLzQ"
      }
    },
    {
      "cell_type": "code",
      "source": [
        "X = bt_data.drop(['Class','Image'], axis = 1)\n",
        "X"
      ],
      "metadata": {
        "colab": {
          "base_uri": "https://localhost:8080/",
          "height": 423
        },
        "id": "aeEo3FjuE-jA",
        "outputId": "ab3a816f-208c-49d5-e119-f4c8290b67b5"
      },
      "execution_count": 11,
      "outputs": [
        {
          "output_type": "execute_result",
          "data": {
            "text/plain": [
              "           Mean     Variance  Standard Deviation   Entropy  Skewness  \\\n",
              "0      6.535339   619.587845           24.891522  0.109059  4.276477   \n",
              "1      8.749969   805.957634           28.389393  0.266538  3.718116   \n",
              "2      7.341095  1143.808219           33.820234  0.001467  5.061750   \n",
              "3      5.958145   959.711985           30.979219  0.001477  5.677977   \n",
              "4      7.315231   729.540579           27.010009  0.146761  4.283221   \n",
              "...         ...          ...                 ...       ...       ...   \n",
              "3757  21.234512  1208.850174           34.768523  0.063774  2.082079   \n",
              "3758  20.435349  1227.151440           35.030721  0.066763  2.144625   \n",
              "3759  18.011520  1151.582765           33.934978  0.068396  2.308349   \n",
              "3760  13.330429   945.732779           30.752769  0.087872  2.732822   \n",
              "3761   6.110138   480.884025           21.929068  0.118171  4.110669   \n",
              "\n",
              "       Kurtosis    Contrast    Energy       ASM  Homogeneity  Dissimilarity  \\\n",
              "0     18.900575   98.613971  0.293314  0.086033     0.530941       4.473346   \n",
              "1     14.464618   63.858816  0.475051  0.225674     0.651352       3.220072   \n",
              "2     26.479563   81.867206  0.031917  0.001019     0.268275       5.981800   \n",
              "3     33.428845  151.229741  0.032024  0.001026     0.243851       7.700919   \n",
              "4     19.079108  174.988756  0.343849  0.118232     0.501140       6.834689   \n",
              "...         ...         ...       ...       ...          ...            ...   \n",
              "3757   4.647310  158.437600  0.220666  0.048693     0.487131       5.211739   \n",
              "3758   4.882034  161.158675  0.225931  0.051045     0.502712       5.083126   \n",
              "3759   5.579498  167.130118  0.228930  0.052409     0.492269       5.103700   \n",
              "3760   7.757570  223.812932  0.261527  0.068397     0.480064       6.439784   \n",
              "3761  17.538826  239.251388  0.306224  0.093773     0.494333       6.787329   \n",
              "\n",
              "      Correlation     Coarseness  \n",
              "0        0.981939  7.458341e-155  \n",
              "1        0.988834  7.458341e-155  \n",
              "2        0.978014  7.458341e-155  \n",
              "3        0.964189  7.458341e-155  \n",
              "4        0.972789  7.458341e-155  \n",
              "...           ...            ...  \n",
              "3757     0.950972  7.458341e-155  \n",
              "3758     0.952749  7.458341e-155  \n",
              "3759     0.952181  7.458341e-155  \n",
              "3760     0.940898  7.458341e-155  \n",
              "3761     0.938731  7.458341e-155  \n",
              "\n",
              "[3762 rows x 13 columns]"
            ],
            "text/html": [
              "\n",
              "  <div id=\"df-90416487-12dd-47bb-974a-8f2001b7ffdd\">\n",
              "    <div class=\"colab-df-container\">\n",
              "      <div>\n",
              "<style scoped>\n",
              "    .dataframe tbody tr th:only-of-type {\n",
              "        vertical-align: middle;\n",
              "    }\n",
              "\n",
              "    .dataframe tbody tr th {\n",
              "        vertical-align: top;\n",
              "    }\n",
              "\n",
              "    .dataframe thead th {\n",
              "        text-align: right;\n",
              "    }\n",
              "</style>\n",
              "<table border=\"1\" class=\"dataframe\">\n",
              "  <thead>\n",
              "    <tr style=\"text-align: right;\">\n",
              "      <th></th>\n",
              "      <th>Mean</th>\n",
              "      <th>Variance</th>\n",
              "      <th>Standard Deviation</th>\n",
              "      <th>Entropy</th>\n",
              "      <th>Skewness</th>\n",
              "      <th>Kurtosis</th>\n",
              "      <th>Contrast</th>\n",
              "      <th>Energy</th>\n",
              "      <th>ASM</th>\n",
              "      <th>Homogeneity</th>\n",
              "      <th>Dissimilarity</th>\n",
              "      <th>Correlation</th>\n",
              "      <th>Coarseness</th>\n",
              "    </tr>\n",
              "  </thead>\n",
              "  <tbody>\n",
              "    <tr>\n",
              "      <th>0</th>\n",
              "      <td>6.535339</td>\n",
              "      <td>619.587845</td>\n",
              "      <td>24.891522</td>\n",
              "      <td>0.109059</td>\n",
              "      <td>4.276477</td>\n",
              "      <td>18.900575</td>\n",
              "      <td>98.613971</td>\n",
              "      <td>0.293314</td>\n",
              "      <td>0.086033</td>\n",
              "      <td>0.530941</td>\n",
              "      <td>4.473346</td>\n",
              "      <td>0.981939</td>\n",
              "      <td>7.458341e-155</td>\n",
              "    </tr>\n",
              "    <tr>\n",
              "      <th>1</th>\n",
              "      <td>8.749969</td>\n",
              "      <td>805.957634</td>\n",
              "      <td>28.389393</td>\n",
              "      <td>0.266538</td>\n",
              "      <td>3.718116</td>\n",
              "      <td>14.464618</td>\n",
              "      <td>63.858816</td>\n",
              "      <td>0.475051</td>\n",
              "      <td>0.225674</td>\n",
              "      <td>0.651352</td>\n",
              "      <td>3.220072</td>\n",
              "      <td>0.988834</td>\n",
              "      <td>7.458341e-155</td>\n",
              "    </tr>\n",
              "    <tr>\n",
              "      <th>2</th>\n",
              "      <td>7.341095</td>\n",
              "      <td>1143.808219</td>\n",
              "      <td>33.820234</td>\n",
              "      <td>0.001467</td>\n",
              "      <td>5.061750</td>\n",
              "      <td>26.479563</td>\n",
              "      <td>81.867206</td>\n",
              "      <td>0.031917</td>\n",
              "      <td>0.001019</td>\n",
              "      <td>0.268275</td>\n",
              "      <td>5.981800</td>\n",
              "      <td>0.978014</td>\n",
              "      <td>7.458341e-155</td>\n",
              "    </tr>\n",
              "    <tr>\n",
              "      <th>3</th>\n",
              "      <td>5.958145</td>\n",
              "      <td>959.711985</td>\n",
              "      <td>30.979219</td>\n",
              "      <td>0.001477</td>\n",
              "      <td>5.677977</td>\n",
              "      <td>33.428845</td>\n",
              "      <td>151.229741</td>\n",
              "      <td>0.032024</td>\n",
              "      <td>0.001026</td>\n",
              "      <td>0.243851</td>\n",
              "      <td>7.700919</td>\n",
              "      <td>0.964189</td>\n",
              "      <td>7.458341e-155</td>\n",
              "    </tr>\n",
              "    <tr>\n",
              "      <th>4</th>\n",
              "      <td>7.315231</td>\n",
              "      <td>729.540579</td>\n",
              "      <td>27.010009</td>\n",
              "      <td>0.146761</td>\n",
              "      <td>4.283221</td>\n",
              "      <td>19.079108</td>\n",
              "      <td>174.988756</td>\n",
              "      <td>0.343849</td>\n",
              "      <td>0.118232</td>\n",
              "      <td>0.501140</td>\n",
              "      <td>6.834689</td>\n",
              "      <td>0.972789</td>\n",
              "      <td>7.458341e-155</td>\n",
              "    </tr>\n",
              "    <tr>\n",
              "      <th>...</th>\n",
              "      <td>...</td>\n",
              "      <td>...</td>\n",
              "      <td>...</td>\n",
              "      <td>...</td>\n",
              "      <td>...</td>\n",
              "      <td>...</td>\n",
              "      <td>...</td>\n",
              "      <td>...</td>\n",
              "      <td>...</td>\n",
              "      <td>...</td>\n",
              "      <td>...</td>\n",
              "      <td>...</td>\n",
              "      <td>...</td>\n",
              "    </tr>\n",
              "    <tr>\n",
              "      <th>3757</th>\n",
              "      <td>21.234512</td>\n",
              "      <td>1208.850174</td>\n",
              "      <td>34.768523</td>\n",
              "      <td>0.063774</td>\n",
              "      <td>2.082079</td>\n",
              "      <td>4.647310</td>\n",
              "      <td>158.437600</td>\n",
              "      <td>0.220666</td>\n",
              "      <td>0.048693</td>\n",
              "      <td>0.487131</td>\n",
              "      <td>5.211739</td>\n",
              "      <td>0.950972</td>\n",
              "      <td>7.458341e-155</td>\n",
              "    </tr>\n",
              "    <tr>\n",
              "      <th>3758</th>\n",
              "      <td>20.435349</td>\n",
              "      <td>1227.151440</td>\n",
              "      <td>35.030721</td>\n",
              "      <td>0.066763</td>\n",
              "      <td>2.144625</td>\n",
              "      <td>4.882034</td>\n",
              "      <td>161.158675</td>\n",
              "      <td>0.225931</td>\n",
              "      <td>0.051045</td>\n",
              "      <td>0.502712</td>\n",
              "      <td>5.083126</td>\n",
              "      <td>0.952749</td>\n",
              "      <td>7.458341e-155</td>\n",
              "    </tr>\n",
              "    <tr>\n",
              "      <th>3759</th>\n",
              "      <td>18.011520</td>\n",
              "      <td>1151.582765</td>\n",
              "      <td>33.934978</td>\n",
              "      <td>0.068396</td>\n",
              "      <td>2.308349</td>\n",
              "      <td>5.579498</td>\n",
              "      <td>167.130118</td>\n",
              "      <td>0.228930</td>\n",
              "      <td>0.052409</td>\n",
              "      <td>0.492269</td>\n",
              "      <td>5.103700</td>\n",
              "      <td>0.952181</td>\n",
              "      <td>7.458341e-155</td>\n",
              "    </tr>\n",
              "    <tr>\n",
              "      <th>3760</th>\n",
              "      <td>13.330429</td>\n",
              "      <td>945.732779</td>\n",
              "      <td>30.752769</td>\n",
              "      <td>0.087872</td>\n",
              "      <td>2.732822</td>\n",
              "      <td>7.757570</td>\n",
              "      <td>223.812932</td>\n",
              "      <td>0.261527</td>\n",
              "      <td>0.068397</td>\n",
              "      <td>0.480064</td>\n",
              "      <td>6.439784</td>\n",
              "      <td>0.940898</td>\n",
              "      <td>7.458341e-155</td>\n",
              "    </tr>\n",
              "    <tr>\n",
              "      <th>3761</th>\n",
              "      <td>6.110138</td>\n",
              "      <td>480.884025</td>\n",
              "      <td>21.929068</td>\n",
              "      <td>0.118171</td>\n",
              "      <td>4.110669</td>\n",
              "      <td>17.538826</td>\n",
              "      <td>239.251388</td>\n",
              "      <td>0.306224</td>\n",
              "      <td>0.093773</td>\n",
              "      <td>0.494333</td>\n",
              "      <td>6.787329</td>\n",
              "      <td>0.938731</td>\n",
              "      <td>7.458341e-155</td>\n",
              "    </tr>\n",
              "  </tbody>\n",
              "</table>\n",
              "<p>3762 rows × 13 columns</p>\n",
              "</div>\n",
              "      <button class=\"colab-df-convert\" onclick=\"convertToInteractive('df-90416487-12dd-47bb-974a-8f2001b7ffdd')\"\n",
              "              title=\"Convert this dataframe to an interactive table.\"\n",
              "              style=\"display:none;\">\n",
              "        \n",
              "  <svg xmlns=\"http://www.w3.org/2000/svg\" height=\"24px\"viewBox=\"0 0 24 24\"\n",
              "       width=\"24px\">\n",
              "    <path d=\"M0 0h24v24H0V0z\" fill=\"none\"/>\n",
              "    <path d=\"M18.56 5.44l.94 2.06.94-2.06 2.06-.94-2.06-.94-.94-2.06-.94 2.06-2.06.94zm-11 1L8.5 8.5l.94-2.06 2.06-.94-2.06-.94L8.5 2.5l-.94 2.06-2.06.94zm10 10l.94 2.06.94-2.06 2.06-.94-2.06-.94-.94-2.06-.94 2.06-2.06.94z\"/><path d=\"M17.41 7.96l-1.37-1.37c-.4-.4-.92-.59-1.43-.59-.52 0-1.04.2-1.43.59L10.3 9.45l-7.72 7.72c-.78.78-.78 2.05 0 2.83L4 21.41c.39.39.9.59 1.41.59.51 0 1.02-.2 1.41-.59l7.78-7.78 2.81-2.81c.8-.78.8-2.07 0-2.86zM5.41 20L4 18.59l7.72-7.72 1.47 1.35L5.41 20z\"/>\n",
              "  </svg>\n",
              "      </button>\n",
              "      \n",
              "  <style>\n",
              "    .colab-df-container {\n",
              "      display:flex;\n",
              "      flex-wrap:wrap;\n",
              "      gap: 12px;\n",
              "    }\n",
              "\n",
              "    .colab-df-convert {\n",
              "      background-color: #E8F0FE;\n",
              "      border: none;\n",
              "      border-radius: 50%;\n",
              "      cursor: pointer;\n",
              "      display: none;\n",
              "      fill: #1967D2;\n",
              "      height: 32px;\n",
              "      padding: 0 0 0 0;\n",
              "      width: 32px;\n",
              "    }\n",
              "\n",
              "    .colab-df-convert:hover {\n",
              "      background-color: #E2EBFA;\n",
              "      box-shadow: 0px 1px 2px rgba(60, 64, 67, 0.3), 0px 1px 3px 1px rgba(60, 64, 67, 0.15);\n",
              "      fill: #174EA6;\n",
              "    }\n",
              "\n",
              "    [theme=dark] .colab-df-convert {\n",
              "      background-color: #3B4455;\n",
              "      fill: #D2E3FC;\n",
              "    }\n",
              "\n",
              "    [theme=dark] .colab-df-convert:hover {\n",
              "      background-color: #434B5C;\n",
              "      box-shadow: 0px 1px 3px 1px rgba(0, 0, 0, 0.15);\n",
              "      filter: drop-shadow(0px 1px 2px rgba(0, 0, 0, 0.3));\n",
              "      fill: #FFFFFF;\n",
              "    }\n",
              "  </style>\n",
              "\n",
              "      <script>\n",
              "        const buttonEl =\n",
              "          document.querySelector('#df-90416487-12dd-47bb-974a-8f2001b7ffdd button.colab-df-convert');\n",
              "        buttonEl.style.display =\n",
              "          google.colab.kernel.accessAllowed ? 'block' : 'none';\n",
              "\n",
              "        async function convertToInteractive(key) {\n",
              "          const element = document.querySelector('#df-90416487-12dd-47bb-974a-8f2001b7ffdd');\n",
              "          const dataTable =\n",
              "            await google.colab.kernel.invokeFunction('convertToInteractive',\n",
              "                                                     [key], {});\n",
              "          if (!dataTable) return;\n",
              "\n",
              "          const docLinkHtml = 'Like what you see? Visit the ' +\n",
              "            '<a target=\"_blank\" href=https://colab.research.google.com/notebooks/data_table.ipynb>data table notebook</a>'\n",
              "            + ' to learn more about interactive tables.';\n",
              "          element.innerHTML = '';\n",
              "          dataTable['output_type'] = 'display_data';\n",
              "          await google.colab.output.renderOutput(dataTable, element);\n",
              "          const docLink = document.createElement('div');\n",
              "          docLink.innerHTML = docLinkHtml;\n",
              "          element.appendChild(docLink);\n",
              "        }\n",
              "      </script>\n",
              "    </div>\n",
              "  </div>\n",
              "  "
            ]
          },
          "metadata": {},
          "execution_count": 11
        }
      ]
    },
    {
      "cell_type": "code",
      "source": [
        "Y = bt_data['Class']\n",
        "Y"
      ],
      "metadata": {
        "colab": {
          "base_uri": "https://localhost:8080/"
        },
        "id": "Pg4eoubIFmAn",
        "outputId": "c12e48b3-847f-4631-9080-183357a7656f"
      },
      "execution_count": 12,
      "outputs": [
        {
          "output_type": "execute_result",
          "data": {
            "text/plain": [
              "0       0\n",
              "1       0\n",
              "2       1\n",
              "3       1\n",
              "4       0\n",
              "       ..\n",
              "3757    0\n",
              "3758    0\n",
              "3759    0\n",
              "3760    0\n",
              "3761    0\n",
              "Name: Class, Length: 3762, dtype: int64"
            ]
          },
          "metadata": {},
          "execution_count": 12
        }
      ]
    },
    {
      "cell_type": "code",
      "source": [
        "X = np.asarray(X).astype('float32')\n",
        "Y = np.asarray(Y).astype('float32')"
      ],
      "metadata": {
        "id": "0QrgrzW6J7MB"
      },
      "execution_count": 13,
      "outputs": []
    },
    {
      "cell_type": "code",
      "source": [
        "from sklearn.model_selection import train_test_split\n",
        "\n",
        "X_train, X_test, Y_train, Y_test = train_test_split(X, Y, test_size = 0.1)"
      ],
      "metadata": {
        "id": "eWk7F1OCIt8Q"
      },
      "execution_count": 14,
      "outputs": []
    },
    {
      "cell_type": "code",
      "source": [
        "class LogitRegression() :\n",
        "    def __init__( self, learning_rate, iterations ) :        \n",
        "        self.learning_rate = learning_rate        \n",
        "        self.iterations = iterations\n",
        "          \n",
        "    # Function for model training    \n",
        "    def fit( self, X, Y ) :        \n",
        "        # no_of_training_examples, no_of_features        \n",
        "        self.m, self.n = X.shape        \n",
        "        # weight initialization        \n",
        "        self.W = np.zeros( self.n )        \n",
        "        self.b = 0        \n",
        "        self.X = X        \n",
        "        self.Y = Y\n",
        "          \n",
        "        # gradient descent learning\n",
        "                  \n",
        "        for i in range( self.iterations ) :            \n",
        "            self.update_weights()            \n",
        "        return self\n",
        "      \n",
        "    # Helper function to update weights in gradient descent\n",
        "      \n",
        "    def update_weights( self ) :           \n",
        "        A = 1 / ( 1 + np.exp( - ( self.X.dot( self.W ) + self.b ) ) )\n",
        "          \n",
        "        # calculate gradients        \n",
        "        tmp = ( A - self.Y.T )        \n",
        "        tmp = np.reshape( tmp, self.m )        \n",
        "        dW = np.dot( self.X.T, tmp ) / self.m         \n",
        "        db = np.sum( tmp ) / self.m \n",
        "          \n",
        "        # update weights    \n",
        "        self.W = self.W - self.learning_rate * dW    \n",
        "        self.b = self.b - self.learning_rate * db\n",
        "          \n",
        "        return self\n",
        "      \n",
        "    # Hypothetical function  h( x ) \n",
        "      \n",
        "    def predict( self, X ) :    \n",
        "        Z = 1 / ( 1 + np.exp( - ( X.dot( self.W ) + self.b ) ) )        \n",
        "        Y = np.where( Z > 0.5, 1, 0 )        \n",
        "        return Y"
      ],
      "metadata": {
        "id": "ts6CI1NdNK1h"
      },
      "execution_count": 15,
      "outputs": []
    },
    {
      "cell_type": "code",
      "source": [
        "model = LogitRegression( learning_rate = 0.05, iterations = 5000 )\n",
        "model.fit( X_train, Y_train )"
      ],
      "metadata": {
        "colab": {
          "base_uri": "https://localhost:8080/"
        },
        "id": "IBe6ftxUNvnD",
        "outputId": "fc6a1ee9-1b97-4af1-95e0-e23f4f4fa38c"
      },
      "execution_count": 16,
      "outputs": [
        {
          "output_type": "stream",
          "name": "stderr",
          "text": [
            "/usr/local/lib/python3.7/dist-packages/ipykernel_launcher.py:25: RuntimeWarning: overflow encountered in exp\n"
          ]
        },
        {
          "output_type": "execute_result",
          "data": {
            "text/plain": [
              "<__main__.LogitRegression at 0x7f138ee005d0>"
            ]
          },
          "metadata": {},
          "execution_count": 16
        }
      ]
    },
    {
      "cell_type": "code",
      "source": [
        "Y_pred = model.predict( X_test ) \n",
        "Y_pred"
      ],
      "metadata": {
        "colab": {
          "base_uri": "https://localhost:8080/"
        },
        "id": "Aa_6m08_PjJa",
        "outputId": "20728d19-90c2-4616-fe1d-f90350631dc0"
      },
      "execution_count": 17,
      "outputs": [
        {
          "output_type": "stream",
          "name": "stderr",
          "text": [
            "/usr/local/lib/python3.7/dist-packages/ipykernel_launcher.py:42: RuntimeWarning: overflow encountered in exp\n"
          ]
        },
        {
          "output_type": "execute_result",
          "data": {
            "text/plain": [
              "array([0, 0, 0, 0, 0, 0, 0, 0, 0, 0, 0, 0, 1, 0, 0, 0, 0, 0, 0, 0, 0, 0,\n",
              "       0, 0, 0, 0, 0, 0, 0, 0, 0, 0, 0, 0, 0, 0, 0, 0, 0, 0, 1, 1, 0, 0,\n",
              "       0, 0, 0, 0, 0, 0, 0, 0, 0, 0, 1, 0, 0, 0, 1, 0, 0, 0, 0, 0, 0, 0,\n",
              "       0, 0, 0, 1, 0, 0, 0, 0, 0, 0, 0, 0, 0, 0, 0, 0, 0, 0, 0, 0, 0, 0,\n",
              "       0, 0, 0, 0, 0, 0, 0, 0, 0, 0, 0, 1, 0, 0, 0, 0, 0, 0, 0, 0, 0, 0,\n",
              "       0, 0, 0, 0, 0, 1, 1, 0, 0, 0, 0, 0, 0, 0, 0, 0, 0, 0, 0, 0, 0, 0,\n",
              "       0, 0, 0, 0, 0, 0, 0, 0, 0, 0, 0, 0, 0, 0, 0, 0, 0, 0, 0, 0, 0, 0,\n",
              "       0, 0, 0, 0, 0, 0, 0, 0, 0, 0, 0, 0, 0, 0, 0, 0, 0, 0, 0, 0, 0, 0,\n",
              "       0, 0, 0, 0, 0, 0, 0, 0, 0, 0, 0, 0, 0, 0, 0, 0, 0, 0, 0, 0, 0, 0,\n",
              "       0, 0, 0, 0, 0, 0, 0, 0, 0, 0, 0, 0, 0, 0, 0, 0, 0, 0, 0, 0, 0, 0,\n",
              "       0, 0, 1, 0, 0, 0, 1, 0, 0, 0, 0, 0, 0, 0, 0, 0, 0, 0, 0, 0, 0, 0,\n",
              "       0, 0, 0, 0, 0, 0, 0, 0, 0, 0, 0, 0, 0, 0, 0, 1, 0, 0, 0, 0, 0, 0,\n",
              "       0, 0, 0, 0, 0, 0, 0, 0, 0, 0, 0, 0, 0, 0, 0, 0, 0, 0, 0, 0, 0, 0,\n",
              "       0, 0, 1, 0, 0, 0, 0, 0, 0, 0, 0, 0, 0, 0, 0, 0, 0, 0, 0, 0, 0, 0,\n",
              "       0, 0, 1, 0, 0, 1, 0, 0, 0, 0, 0, 0, 0, 0, 0, 0, 0, 0, 0, 0, 0, 0,\n",
              "       0, 0, 0, 0, 0, 0, 0, 0, 0, 0, 0, 0, 0, 0, 0, 0, 0, 0, 0, 0, 0, 0,\n",
              "       0, 1, 0, 0, 0, 0, 0, 0, 0, 0, 0, 0, 0, 0, 0, 1, 0, 0, 0, 0, 0, 1,\n",
              "       0, 0, 0])"
            ]
          },
          "metadata": {},
          "execution_count": 17
        }
      ]
    },
    {
      "cell_type": "code",
      "source": [
        "correctly_classified = 0    \n",
        "# counter    \n",
        "\n",
        "for count in range( np.size( Y_pred ) ) :      \n",
        "    if Y_test[count] == Y_pred[count] :            \n",
        "        correctly_classified = correctly_classified + 1"
      ],
      "metadata": {
        "id": "e1Z89woNPcga"
      },
      "execution_count": 18,
      "outputs": []
    },
    {
      "cell_type": "code",
      "source": [
        "print( \"Accuracy on test set :  %.2f\"%((correctly_classified / count ) * 100) )"
      ],
      "metadata": {
        "colab": {
          "base_uri": "https://localhost:8080/"
        },
        "id": "lD29USzVPoS5",
        "outputId": "22c69f12-118d-4900-bc55-4567b3570dbb"
      },
      "execution_count": 19,
      "outputs": [
        {
          "output_type": "stream",
          "name": "stdout",
          "text": [
            "Accuracy on test set :  61.17\n"
          ]
        }
      ]
    },
    {
      "cell_type": "code",
      "source": [
        "Y_test"
      ],
      "metadata": {
        "colab": {
          "base_uri": "https://localhost:8080/"
        },
        "id": "Uzo2fmK4OxQZ",
        "outputId": "c1b4ca66-4eb8-4230-9333-37fe0a0d824a"
      },
      "execution_count": 20,
      "outputs": [
        {
          "output_type": "execute_result",
          "data": {
            "text/plain": [
              "array([0., 1., 0., 0., 0., 1., 1., 0., 1., 1., 0., 1., 1., 0., 1., 1., 0.,\n",
              "       0., 0., 1., 0., 0., 0., 0., 0., 1., 0., 0., 0., 1., 1., 0., 1., 1.,\n",
              "       1., 0., 0., 0., 0., 0., 1., 1., 0., 1., 0., 0., 1., 0., 0., 0., 0.,\n",
              "       0., 1., 1., 1., 0., 0., 1., 1., 0., 0., 0., 1., 1., 0., 1., 0., 1.,\n",
              "       1., 1., 1., 1., 0., 1., 0., 0., 1., 1., 1., 0., 0., 1., 1., 1., 0.,\n",
              "       0., 0., 0., 1., 1., 1., 0., 1., 1., 0., 0., 0., 1., 0., 1., 0., 0.,\n",
              "       0., 1., 0., 0., 0., 0., 0., 0., 0., 1., 0., 0., 0., 1., 1., 1., 0.,\n",
              "       0., 1., 0., 1., 0., 0., 1., 0., 1., 1., 0., 1., 0., 1., 0., 1., 1.,\n",
              "       0., 1., 1., 0., 0., 0., 1., 0., 1., 0., 1., 1., 0., 0., 1., 0., 0.,\n",
              "       1., 0., 0., 0., 0., 0., 0., 1., 0., 1., 1., 0., 0., 1., 1., 1., 0.,\n",
              "       1., 0., 0., 0., 0., 1., 1., 0., 1., 0., 1., 1., 0., 0., 0., 0., 1.,\n",
              "       0., 1., 0., 0., 0., 0., 0., 0., 1., 1., 0., 0., 0., 1., 0., 0., 0.,\n",
              "       0., 1., 1., 0., 0., 1., 1., 1., 1., 0., 1., 1., 0., 1., 1., 0., 0.,\n",
              "       0., 1., 1., 0., 0., 1., 0., 0., 1., 0., 1., 1., 0., 1., 0., 1., 0.,\n",
              "       0., 1., 1., 1., 0., 1., 0., 0., 0., 0., 1., 1., 0., 0., 0., 0., 0.,\n",
              "       0., 0., 1., 1., 0., 0., 1., 1., 0., 0., 1., 1., 0., 0., 0., 1., 1.,\n",
              "       0., 0., 1., 1., 0., 1., 0., 0., 1., 0., 1., 1., 0., 0., 1., 1., 1.,\n",
              "       1., 1., 0., 1., 0., 0., 0., 0., 1., 0., 0., 0., 1., 0., 0., 0., 1.,\n",
              "       0., 0., 0., 0., 1., 0., 1., 1., 0., 0., 0., 0., 0., 0., 0., 1., 1.,\n",
              "       0., 0., 1., 1., 0., 0., 0., 0., 0., 0., 1., 0., 1., 1., 0., 1., 0.,\n",
              "       0., 1., 0., 1., 1., 1., 0., 1., 1., 1., 1., 0., 1., 1., 1., 1., 1.,\n",
              "       0., 1., 0., 1., 1., 0., 0., 1., 0., 0., 1., 1., 0., 0., 0., 0., 1.,\n",
              "       1., 0., 0.], dtype=float32)"
            ]
          },
          "metadata": {},
          "execution_count": 20
        }
      ]
    },
    {
      "cell_type": "markdown",
      "source": [
        "3. Neural Network Approach using Normal ANN\n",
        "\n"
      ],
      "metadata": {
        "id": "RTHeYFkTYVzB"
      }
    },
    {
      "cell_type": "code",
      "source": [
        "def import_images(folder):\n",
        "    images = []\n",
        "    imagePaths = list(paths.list_images(folder))\n",
        "\n",
        "    for (i,imagePath) in enumerate(imagePaths):\n",
        "        img_1 = img.imread(imagePath)\n",
        "        if img is not None:\n",
        "            images.append(img_1)\n",
        "        \n",
        "    return images"
      ],
      "metadata": {
        "id": "53Gt9m8dRAAq"
      },
      "execution_count": 21,
      "outputs": []
    },
    {
      "cell_type": "code",
      "source": [
        "bt_imgs = import_images('drive/MyDrive/Datasets/Question 4/Qn3_Braintumor/Brain Tumor')"
      ],
      "metadata": {
        "id": "QaTDkbRuRaRB"
      },
      "execution_count": 22,
      "outputs": []
    },
    {
      "cell_type": "code",
      "source": [
        "imshow(bt_imgs[1])"
      ],
      "metadata": {
        "colab": {
          "base_uri": "https://localhost:8080/",
          "height": 316
        },
        "id": "9iaRpJc2VItc",
        "outputId": "93ff2180-74e8-4ac1-f0c5-4310d2a312e4"
      },
      "execution_count": 23,
      "outputs": [
        {
          "output_type": "execute_result",
          "data": {
            "text/plain": [
              "<matplotlib.image.AxesImage at 0x7f138ed6ad10>"
            ]
          },
          "metadata": {},
          "execution_count": 23
        },
        {
          "output_type": "display_data",
          "data": {
            "text/plain": [
              "<Figure size 432x288 with 1 Axes>"
            ],
            "image/png": "[encoded data removed]"
          },
          "metadata": {
            "needs_background": "light"
          }
        }
      ]
    },
    {
      "cell_type": "code",
      "source": [
        "np.array(bt_imgs).shape"
      ],
      "metadata": {
        "colab": {
          "base_uri": "https://localhost:8080/"
        },
        "id": "iB32lCt8Rs8j",
        "outputId": "e3a3ce2f-6c8c-451f-bd22-518d06bbbc27"
      },
      "execution_count": 24,
      "outputs": [
        {
          "output_type": "execute_result",
          "data": {
            "text/plain": [
              "(3763, 240, 240, 3)"
            ]
          },
          "metadata": {},
          "execution_count": 24
        }
      ]
    },
    {
      "cell_type": "code",
      "source": [
        "from skimage.color import rgb2gray\n",
        "gray_imgs = []\n",
        "\n",
        "for i in bt_imgs:\n",
        "    gray_imgs.append(np.asarray(rgb2gray(i)))"
      ],
      "metadata": {
        "id": "xO_wMZwQSbew"
      },
      "execution_count": 25,
      "outputs": []
    },
    {
      "cell_type": "code",
      "source": [
        "imshow(gray_imgs[0])"
      ],
      "metadata": {
        "colab": {
          "base_uri": "https://localhost:8080/",
          "height": 316
        },
        "id": "yjQlGrxVWtRL",
        "outputId": "5954cd92-b75a-4e76-d979-6d0fb64c8c4d"
      },
      "execution_count": 26,
      "outputs": [
        {
          "output_type": "execute_result",
          "data": {
            "text/plain": [
              "<matplotlib.image.AxesImage at 0x7f138ebd1d10>"
            ]
          },
          "metadata": {},
          "execution_count": 26
        },
        {
          "output_type": "display_data",
          "data": {
            "text/plain": [
              "<Figure size 432x288 with 1 Axes>"
            ],
            "image/png": "[encoded data removed]"
          },
          "metadata": {
            "needs_background": "light"
          }
        }
      ]
    },
    {
      "cell_type": "code",
      "source": [
        "gray_imgs[0].shape"
      ],
      "metadata": {
        "colab": {
          "base_uri": "https://localhost:8080/"
        },
        "id": "9JnQ4UcBVw0R",
        "outputId": "8e5c0d6b-da4c-4fc8-b95d-5c4103b0a4c3"
      },
      "execution_count": 27,
      "outputs": [
        {
          "output_type": "execute_result",
          "data": {
            "text/plain": [
              "(240, 240)"
            ]
          },
          "metadata": {},
          "execution_count": 27
        }
      ]
    },
    {
      "cell_type": "code",
      "source": [
        "new_Y = np.append(Y, 0)\n",
        "new_Y"
      ],
      "metadata": {
        "colab": {
          "base_uri": "https://localhost:8080/"
        },
        "id": "Q4Xwr_GAYVZo",
        "outputId": "0e4f106f-519d-4cad-dd8c-415917aecb47"
      },
      "execution_count": 28,
      "outputs": [
        {
          "output_type": "execute_result",
          "data": {
            "text/plain": [
              "array([0., 0., 1., ..., 0., 0., 0.])"
            ]
          },
          "metadata": {},
          "execution_count": 28
        }
      ]
    },
    {
      "cell_type": "code",
      "source": [
        "x_train, x_test, y_train, y_test = train_test_split(np.asarray(gray_imgs), new_Y, test_size = 0.1)"
      ],
      "metadata": {
        "id": "ltDHyb-VY6kT"
      },
      "execution_count": 29,
      "outputs": []
    },
    {
      "cell_type": "code",
      "source": [
        "from keras import Sequential\n",
        "from keras.layers import Dense, Flatten"
      ],
      "metadata": {
        "id": "Nq0rOKPnZaJ5"
      },
      "execution_count": 30,
      "outputs": []
    },
    {
      "cell_type": "code",
      "source": [
        "model = Sequential()\n",
        "\n",
        "model.add(Flatten(input_shape=(240,240)))\n",
        "\n",
        "model.add(Dense(400, activation='relu'))\n",
        "model.add(Dense(200, activation='tanh'))\n",
        "model.add(Dense(200, activation='tanh'))\n",
        "\n",
        "model.add(Dense(1,activation='sigmoid'))"
      ],
      "metadata": {
        "id": "U31dDumqYxSy"
      },
      "execution_count": 34,
      "outputs": []
    },
    {
      "cell_type": "code",
      "source": [
        "model.compile(optimizer = 'adam', loss = 'binary_crossentropy', metrics = [\"accuracy\"])"
      ],
      "metadata": {
        "id": "aXQ3fx8VZ62K"
      },
      "execution_count": 35,
      "outputs": []
    },
    {
      "cell_type": "code",
      "source": [
        "history = model.fit(x_train, y_train, epochs = 10, validation_split = 0.2)"
      ],
      "metadata": {
        "colab": {
          "base_uri": "https://localhost:8080/"
        },
        "id": "mvCTcgHNZ8Uz",
        "outputId": "10de0881-03cc-4fda-ca9a-086db9c15a2d"
      },
      "execution_count": 36,
      "outputs": [
        {
          "output_type": "stream",
          "name": "stdout",
          "text": [
            "Epoch 1/10\n",
            "85/85 [==============================] - 17s 193ms/step - loss: 0.7208 - accuracy: 0.5096 - val_loss: 0.6830 - val_accuracy: 0.5723\n",
            "Epoch 2/10\n",
            "85/85 [==============================] - 21s 253ms/step - loss: 0.7045 - accuracy: 0.5162 - val_loss: 0.6827 - val_accuracy: 0.5723\n",
            "Epoch 3/10\n",
            "85/85 [==============================] - 12s 144ms/step - loss: 0.6924 - accuracy: 0.5332 - val_loss: 0.6846 - val_accuracy: 0.5723\n",
            "Epoch 4/10\n",
            "85/85 [==============================] - 12s 146ms/step - loss: 0.6964 - accuracy: 0.5218 - val_loss: 0.6857 - val_accuracy: 0.5723\n",
            "Epoch 5/10\n",
            "85/85 [==============================] - 12s 145ms/step - loss: 0.6925 - accuracy: 0.5207 - val_loss: 0.6856 - val_accuracy: 0.5723\n",
            "Epoch 6/10\n",
            "85/85 [==============================] - 12s 144ms/step - loss: 0.6944 - accuracy: 0.5199 - val_loss: 0.6846 - val_accuracy: 0.5723\n",
            "Epoch 7/10\n",
            "85/85 [==============================] - 12s 144ms/step - loss: 0.6938 - accuracy: 0.5292 - val_loss: 0.6834 - val_accuracy: 0.5723\n",
            "Epoch 8/10\n",
            "85/85 [==============================] - 13s 159ms/step - loss: 0.6926 - accuracy: 0.5185 - val_loss: 0.6849 - val_accuracy: 0.5723\n",
            "Epoch 9/10\n",
            "85/85 [==============================] - 16s 191ms/step - loss: 0.6903 - accuracy: 0.5343 - val_loss: 0.6918 - val_accuracy: 0.5723\n",
            "Epoch 10/10\n",
            "85/85 [==============================] - 12s 145ms/step - loss: 0.6907 - accuracy: 0.5329 - val_loss: 0.6828 - val_accuracy: 0.5723\n"
          ]
        }
      ]
    },
    {
      "cell_type": "code",
      "source": [
        "model.evaluate(x_test, y_test)"
      ],
      "metadata": {
        "colab": {
          "base_uri": "https://localhost:8080/"
        },
        "id": "dxOzg_31h68I",
        "outputId": "760f4d7e-9cfc-4f1b-9938-8dc15e90dd35"
      },
      "execution_count": 42,
      "outputs": [
        {
          "output_type": "stream",
          "name": "stdout",
          "text": [
            "12/12 [==============================] - 1s 106ms/step - loss: 0.6844 - accuracy: 0.5650\n"
          ]
        },
        {
          "output_type": "execute_result",
          "data": {
            "text/plain": [
              "[0.6843883395195007, 0.5649867653846741]"
            ]
          },
          "metadata": {},
          "execution_count": 42
        }
      ]
    },
    {
      "cell_type": "code",
      "source": [
        "#prediction\n",
        "i = 55\n",
        "predict = model.predict(x_train[i].reshape(-1,240,240))\n",
        "\n",
        "print(\"Predicted:\",predict, \"Actual:\",y_train[i])\n",
        "\n",
        "imshow(x_train[i])"
      ],
      "metadata": {
        "colab": {
          "base_uri": "https://localhost:8080/",
          "height": 333
        },
        "id": "Usa7S5THaA5f",
        "outputId": "efec342d-9cf9-4b41-8ba0-1c9b46f8668c"
      },
      "execution_count": 39,
      "outputs": [
        {
          "output_type": "stream",
          "name": "stdout",
          "text": [
            "Predicted: [[0.43337354]] Actual: 0.0\n"
          ]
        },
        {
          "output_type": "execute_result",
          "data": {
            "text/plain": [
              "<matplotlib.image.AxesImage at 0x7f1318dec510>"
            ]
          },
          "metadata": {},
          "execution_count": 39
        },
        {
          "output_type": "display_data",
          "data": {
            "text/plain": [
              "<Figure size 432x288 with 1 Axes>"
            ],
            "image/png": "[encoded data removed]"
          },
          "metadata": {
            "needs_background": "light"
          }
        }
      ]
    },
    {
      "cell_type": "code",
      "source": [
        "plt.figure(figsize=(10,10))\n",
        "plt.plot(history.history['accuracy'], 'green')\n",
        "plt.plot(history.history['val_accuracy'], 'red')\n",
        "plt.title('Accuracy for Model')\n",
        "plt.ylabel('accuracy')\n",
        "plt.xlabel('epoch')\n",
        "plt.legend(['train', 'validate'], loc='upper left')"
      ],
      "metadata": {
        "colab": {
          "base_uri": "https://localhost:8080/",
          "height": 639
        },
        "id": "e8svuv7Gb45v",
        "outputId": "afd716b4-5390-4081-ce76-29a1d5d1303e"
      },
      "execution_count": 40,
      "outputs": [
        {
          "output_type": "execute_result",
          "data": {
            "text/plain": [
              "<matplotlib.legend.Legend at 0x7f131cdc20d0>"
            ]
          },
          "metadata": {},
          "execution_count": 40
        },
        {
          "output_type": "display_data",
          "data": {
            "text/plain": [
              "<Figure size 720x720 with 1 Axes>"
            ],
            "image/png": "[encoded data removed]"
          },
          "metadata": {
            "needs_background": "light"
          }
        }
      ]
    }
  ]
}